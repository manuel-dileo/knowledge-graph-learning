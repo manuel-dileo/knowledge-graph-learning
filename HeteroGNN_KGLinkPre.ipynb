{
 "cells": [
  {
   "cell_type": "code",
   "execution_count": 1,
   "metadata": {},
   "outputs": [],
   "source": [
    "import rdflib\n",
    "import csv\n",
    "from torch_geometric.data import HeteroData\n",
    "import torch\n",
    "import numpy as np\n",
    "#import tensorflow as tf pytorch tensor != tf tensor"
   ]
  },
  {
   "cell_type": "code",
   "execution_count": 2,
   "metadata": {},
   "outputs": [],
   "source": [
    "def _store_dict(dict_path, list_to_store):\n",
    "    with open(dict_path, 'wt') as file:\n",
    "        writer = csv.writer(file, delimiter='\\t')\n",
    "        for idx, val in enumerate(list_to_store):\n",
    "            writer.writerow([idx, val])"
   ]
  },
  {
   "cell_type": "code",
   "execution_count": 3,
   "metadata": {},
   "outputs": [],
   "source": [
    "def _read_dict_as_list(dict_path):\n",
    "    with open(dict_path) as tsv:\n",
    "        list_to_store = []\n",
    "        reader = csv.reader(tsv, delimiter='\\t')\n",
    "        for row in reader:\n",
    "            list_to_store.append(row[1])\n",
    "        return list_to_store"
   ]
  },
  {
   "cell_type": "code",
   "execution_count": 4,
   "metadata": {},
   "outputs": [],
   "source": [
    "def get_relation_type(relation):\n",
    "    r_split = relation.split(\"/\")\n",
    "    return r_split[len(r_split)-1]"
   ]
  },
  {
   "cell_type": "code",
   "execution_count": 5,
   "metadata": {},
   "outputs": [],
   "source": [
    "entities_and_type = {}\n",
    "relations = []\n",
    "triples = []\n",
    "triple_properties=[]\n",
    "# Process the Knowledge Graph\n",
    "g = rdflib.Graph()\n",
    "g.parse('knowledge_graph.ttl', format='turtle')\n",
    "\n",
    "for s, p, o in g:\n",
    "    if str(p) != \"http://www.w3.org/1999/02/22-rdf-syntax-ns#type\":\n",
    "        if not str(s) in entities_and_type:\n",
    "            entities_and_type[(str(s))] =\"\"\n",
    "        if not str(p) in relations:\n",
    "            relations.append(str(p))\n",
    "        if not str(o) in entities_and_type:\n",
    "            if str(o).find('https://') != -1 or str(o).find('http://') != -1:\n",
    "                entities_and_type[str(o)]=\"\"\n",
    "            else:\n",
    "                entities_and_type[\"property\"]=\"\"\n",
    "                triple_properties.append((str(s),str(p),str(o)))\n",
    "        \n",
    "        triples.append((s,p,o))\n",
    "    else:\n",
    "        if str(s) in entities_and_type.keys():\n",
    "            split_o = str(o).split('/')\n",
    "            entities_and_type[str(s)]= split_o[len(split_o)-1]"
   ]
  },
  {
   "cell_type": "code",
   "execution_count": 6,
   "metadata": {},
   "outputs": [],
   "source": [
    "entity_types_count = {}\n",
    "entities_no_empty = []\n",
    "for entity in entities_and_type:\n",
    "    tipo = entities_and_type[entity].lower()\n",
    "    if tipo != \"\":\n",
    "        entity_types_count[tipo] = entity_types_count.get(tipo, 0)+1\n",
    "        entities_no_empty.append(entity)\n",
    "\n",
    "\n",
    "# Store entities and relations as dictionaries\n",
    "_store_dict(\"entities.dict\", entities_no_empty)\n",
    "_store_dict(\"relations.dict\", relations)"
   ]
  },
  {
   "cell_type": "code",
   "execution_count": 7,
   "metadata": {},
   "outputs": [
    {
     "data": {
      "text/plain": [
       "15267"
      ]
     },
     "execution_count": 7,
     "metadata": {},
     "output_type": "execute_result"
    }
   ],
   "source": [
    "len(entities_no_empty)"
   ]
  },
  {
   "cell_type": "code",
   "execution_count": 8,
   "metadata": {},
   "outputs": [],
   "source": [
    "data = HeteroData()\n",
    "types = list(entity_types_count.keys())\n",
    "for t in types:\n",
    "    data[t].x = torch.Tensor([[1] for i in range(entity_types_count[t])])"
   ]
  },
  {
   "cell_type": "code",
   "execution_count": 9,
   "metadata": {},
   "outputs": [],
   "source": [
    "#entities = _read_dict_as_list(\"entities.dict\")\n",
    "entities = entities_no_empty"
   ]
  },
  {
   "cell_type": "code",
   "execution_count": 10,
   "metadata": {},
   "outputs": [],
   "source": [
    "subject_dict = {}\n",
    "object_dict = {}\n",
    "\n",
    "index_dict = {t:{'count': 0} for t in entity_types_count.keys()}\n",
    "\n",
    "for triple in triples:\n",
    "    s = str(triple[0])\n",
    "    p = str(triple[1])\n",
    "    o = str(triple[2])\n",
    "\n",
    "    if s in entities and o in entities:\n",
    "        p_type = get_relation_type(p)\n",
    "        s_type = entities_and_type[s].lower()\n",
    "        o_type = entities_and_type[o].lower()\n",
    "\n",
    "        if(s_type != \"\" and o_type != \"\"):\n",
    "            key_t = (s_type, p_type, o_type)\n",
    "            \n",
    "            if key_t not in subject_dict.keys():\n",
    "                subject_dict[key_t] = []\n",
    "                object_dict[key_t] = []\n",
    "                \n",
    "            if str(s) not in index_dict[s_type]:\n",
    "                index_dict[s_type][str(s)] = index_dict[s_type]['count']\n",
    "                index_dict[s_type]['count'] = index_dict[s_type]['count']+1\n",
    "            s_index = index_dict[s_type][str(s)]\n",
    "                \n",
    "            if str(o) not in index_dict[o_type]:\n",
    "                index_dict[o_type][str(o)] = index_dict[o_type]['count']\n",
    "                index_dict[o_type]['count'] = index_dict[o_type]['count']+1\n",
    "            o_index = index_dict[o_type][str(o)]\n",
    "                \n",
    "            subject_dict[key_t].append(s_index)\n",
    "            object_dict[key_t].append(o_index)\n",
    "         \n",
    "        #data[s_type, p_type, o_type].edge_index[0].append(entities.index(str(s)))\n",
    "        #data[s_type, p_type, o_type].edge_index[1].append(entities.index(str(o)))"
   ]
  },
  {
   "cell_type": "code",
   "execution_count": 11,
   "metadata": {},
   "outputs": [],
   "source": [
    "for triple in subject_dict.keys():\n",
    "    lol = [subject_dict[triple], object_dict[triple]]\n",
    "    data[triple[0], triple[1], triple[2]].edge_index = torch.Tensor(lol).long()"
   ]
  },
  {
   "cell_type": "code",
   "execution_count": 12,
   "metadata": {},
   "outputs": [],
   "source": [
    "edge_types = list(data.edge_index_dict.keys())"
   ]
  },
  {
   "cell_type": "code",
   "execution_count": 13,
   "metadata": {},
   "outputs": [],
   "source": [
    "from torch_geometric.nn import SAGEConv, to_hetero, GATConv\n",
    "\n",
    "class GNN(torch.nn.Module):\n",
    "    def __init__(self, hidden_channels, out_channels):\n",
    "        super().__init__()\n",
    "        self.conv1 = GATConv((-1, -1), hidden_channels)\n",
    "        self.conv2 = GATConv((-1, -1), out_channels)\n",
    "\n",
    "    def forward(self, x, edge_index):\n",
    "        x = self.conv1(x, edge_index).relu()\n",
    "        x = self.conv2(x, edge_index)\n",
    "        return x\n",
    "\n",
    "\n",
    "model = GNN(hidden_channels=4, out_channels=2)\n",
    "model = to_hetero(model, data.metadata(), aggr='sum')"
   ]
  },
  {
   "cell_type": "code",
   "execution_count": 14,
   "metadata": {},
   "outputs": [],
   "source": [
    "from torch_geometric.transforms import RandomLinkSplit\n",
    "\n",
    "link_split = RandomLinkSplit(num_val=0.0,\n",
    "                             num_test=0.25,\n",
    "                             edge_types=edge_types,\n",
    "                             rev_edge_types=[None]*len(edge_types))\n",
    "train_link, val_link, test_link = link_split(data)"
   ]
  },
  {
   "cell_type": "code",
   "execution_count": 15,
   "metadata": {},
   "outputs": [],
   "source": [
    "with torch.no_grad():  # Initialize lazy modules.\n",
    "    out = model(data.x_dict,data.edge_index_dict)"
   ]
  },
  {
   "cell_type": "code",
   "execution_count": 16,
   "metadata": {},
   "outputs": [],
   "source": [
    "optimizer = torch.optim.Adam(model.parameters(), lr=0.01, weight_decay=5e-4)\n",
    "criterion =  torch.nn.BCEWithLogitsLoss() #change loss function\n",
    "\n",
    "def train_hetlinkpre():\n",
    "    model.train()\n",
    "    optimizer.zero_grad()  # Clear gradients.\n",
    "    out = model(train_link.x_dict, train_link.edge_index_dict)  # Perform a single forward pass.\n",
    "    preds = torch.Tensor()\n",
    "    edge_labels = torch.Tensor()\n",
    "    ### LINK PREDICTION ACTS HERE ###\n",
    "    for edge_t in edge_types:\n",
    "        #Compute link embedding for each edge type\n",
    "        #for src in train_link[edge_t].edge_label_index[0]:\n",
    "        out_src = out[edge_t[0]][train_link[edge_t].edge_label_index[0]]#embedding src nodes\n",
    "        out_dst = out[edge_t[2]][train_link[edge_t].edge_label_index[1]] #embedding dst nodes\n",
    "        \n",
    "        # LINK EMBEDDING #\n",
    "        # 1 - Dot Product\n",
    "        out_sim = out_src * out_dst #dotproduct\n",
    "        pred = torch.sum(out_sim, dim=-1)\n",
    "        \n",
    "        preds = torch.cat((preds,pred),-1)\n",
    "        edge_labels = torch.cat((edge_labels,train_link[edge_t].edge_label.type_as(pred)),-1)\n",
    "    \n",
    "        \n",
    "    #compute loss function based on all edge types\n",
    "    loss = criterion(preds, edge_labels)\n",
    "    loss.backward()  # Derive gradients.\n",
    "    optimizer.step()  # Update parameters based on gradients.\n",
    "    return loss"
   ]
  },
  {
   "cell_type": "code",
   "execution_count": 17,
   "metadata": {},
   "outputs": [],
   "source": [
    "from sklearn.metrics import roc_auc_score\n",
    "\n",
    "def test_hetlinkpre(test_link):\n",
    "    model.eval()\n",
    "    out = model(test_link.x_dict, test_link.edge_index_dict)\n",
    "    \n",
    "    ### LINK PREDICTION ACTS HERE ###\n",
    "    \n",
    "    hs = torch.Tensor()\n",
    "    edge_labels = np.array([])\n",
    "    ### LINK PREDICTION ACTS HERE ###\n",
    "    for edge_t in edge_types:\n",
    "        #Compute link embedding for each edge type\n",
    "        #for src in train_link[edge_t].edge_label_index[0]:\n",
    "        out_src = out[edge_t[0]][test_link[edge_t].edge_label_index[0]]#embedding src nodes\n",
    "        out_dst = out[edge_t[2]][test_link[edge_t].edge_label_index[1]] #embedding dst nodes\n",
    "        \n",
    "        # LINK EMBEDDING #\n",
    "        # 1 - Dot Product\n",
    "        out_sim = out_src * out_dst #dotproduct\n",
    "        h = torch.sum(out_sim, dim=-1)\n",
    "        \n",
    "        hs = torch.cat((hs,h),-1)\n",
    "        edge_labels = np.concatenate((edge_labels,test_link[edge_t].edge_label.cpu().detach().numpy()))\n",
    "    \n",
    "    \n",
    "    pred_cont = torch.sigmoid(hs).cpu().detach().numpy()\n",
    "    \n",
    "    # EVALUATION\n",
    "    test_roc_score = roc_auc_score(edge_labels, pred_cont) #comput AUROC score for test set\n",
    "    \n",
    "    return test_roc_score"
   ]
  },
  {
   "cell_type": "code",
   "execution_count": 18,
   "metadata": {},
   "outputs": [],
   "source": [
    "for epoch in range(1,1001):\n",
    "    loss = train_hetlinkpre()\n",
    "    #print(f'Epoch: {epoch:03d}, Loss: {loss:.4f}')"
   ]
  },
  {
   "cell_type": "code",
   "execution_count": 19,
   "metadata": {},
   "outputs": [
    {
     "name": "stdout",
     "output_type": "stream",
     "text": [
      "Train AUROC: 0.7537\n",
      "Test AUROC: 0.7026\n"
     ]
    }
   ],
   "source": [
    "roc_train = test_hetlinkpre(train_link)\n",
    "roc_test = test_hetlinkpre(test_link)\n",
    "print(f'Train AUROC: {roc_train:.4f}\\nTest AUROC: {roc_test:.4f}')"
   ]
  }
 ],
 "metadata": {
  "interpreter": {
   "hash": "31f2aee4e71d21fbe5cf8b01ff0e069b9275f58929596ceb00d14d90e3e16cd6"
  },
  "kernelspec": {
   "display_name": "Python 3 (ipykernel)",
   "language": "python",
   "name": "python3"
  },
  "language_info": {
   "codemirror_mode": {
    "name": "ipython",
    "version": 3
   },
   "file_extension": ".py",
   "mimetype": "text/x-python",
   "name": "python",
   "nbconvert_exporter": "python",
   "pygments_lexer": "ipython3",
   "version": "3.9.7"
  }
 },
 "nbformat": 4,
 "nbformat_minor": 2
}
