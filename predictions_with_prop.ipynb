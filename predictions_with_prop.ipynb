{
 "cells": [
  {
   "cell_type": "code",
   "execution_count": 1,
   "metadata": {},
   "outputs": [],
   "source": [
    "import rdflib\n",
    "from rdflib import URIRef\n",
    "from rdflib.namespace import OWL, RDF, RDFS,XSD, Namespace\n",
    "import csv\n",
    "from torch_geometric.data import HeteroData\n",
    "import torch\n",
    "import numpy as np\n",
    "#import tensorflow as tf pytorch tensor != tf tensor"
   ]
  },
  {
   "cell_type": "code",
   "execution_count": 2,
   "metadata": {},
   "outputs": [],
   "source": [
    "prefix = \"https://dbpedia.org/ontology/\"\n",
    "possible_types = {}"
   ]
  },
  {
   "cell_type": "code",
   "execution_count": 3,
   "metadata": {},
   "outputs": [],
   "source": [
    "def get_type(relation):\n",
    "    r_split = relation.split(\"/\")\n",
    "    return r_split[len(r_split)-1]"
   ]
  },
  {
   "cell_type": "code",
   "execution_count": 4,
   "metadata": {},
   "outputs": [],
   "source": [
    "def get_property_type(property):\n",
    "    split_p = property.split(\"^^\")\n",
    "    p_type = str(split_p[1].split(\"#\")[1]).lower()\n",
    "    \n",
    "    if p_type.startswith(\"xsd:integer\"):\n",
    "        return(\"Integer\", split_p[0])\n",
    "    if p_type.startswith(\"xsd:string\"):\n",
    "        return(\"String\", split_p[0])\n",
    "    if p_type.startswith(\"xsd:double\"):\n",
    "        return(\"Double\", split_p[0])\n",
    "    if p_type.startswith(\"xsd:gYear\"):\n",
    "        return(\"Year\",split_p[0])\n",
    "    if p_type.startswith(\"xsd:date\"):\n",
    "        return(\"Date\",split_p[0])\n",
    "    return (\"\",\"\")"
   ]
  },
  {
   "cell_type": "code",
   "execution_count": 5,
   "metadata": {},
   "outputs": [
    {
     "data": {
      "text/plain": [
       "<Graph identifier=Nfb07014494254c1b85e8b2816d76338b (<class 'rdflib.graph.Graph'>)>"
      ]
     },
     "execution_count": 5,
     "metadata": {},
     "output_type": "execute_result"
    }
   ],
   "source": [
    "ontology = rdflib.Graph()\n",
    "ontology.parse('/home/sara/Desktop/fase2/git_repo/knowledge-graph-learning/data/external/ontologia.ttl', format='ttl')"
   ]
  },
  {
   "cell_type": "code",
   "execution_count": 6,
   "metadata": {},
   "outputs": [],
   "source": [
    "ontology.bind(\"dbo\", Namespace(\"http://dbpedia.org/ontology/\"))\n",
    "ontology.bind(\"dbr\", Namespace(\"http://dbpedia.org/resource/\"))\n",
    "ontology.bind(\"rdfs\", Namespace(\"http://www.w3.org/2000/01/rdf-schema#\"))\n",
    "ontology.bind(\"owl\", Namespace(\"http://www.w3.org/2002/07/owl#\"))\n",
    "ontology.bind(\"rdf\", Namespace(\"http://www.w3.org/1999/02/22-rdf-syntax-ns#\"))"
   ]
  },
  {
   "cell_type": "code",
   "execution_count": 15,
   "metadata": {},
   "outputs": [],
   "source": [
    "def get_possible_types(subj_type, obj_type):\n",
    "    if (subj_type,obj_type) not in possible_types:\n",
    "        q = \"SELECT DISTINCT ?property WHERE {\"+\\\n",
    "        \"{ ?property rdfs:domain dbo:\"+subj_type+\". ?property rdfs:range dbo:\"+obj_type+\\\n",
    "        \" .} UNION {dbo:\"+subj_type +\" rdfs:subClassOf ?superclass. dbo:\"+obj_type +\" rdfs:subClassOf  ?superclass2 .\"+\\\n",
    "        \"  ?property rdfs:domain ?superclass . ?property rdfs:range ?superclass2 \"+\\\n",
    "        \"} }\"\n",
    "        result = ontology.query(q)\n",
    "        results = []\n",
    "        for res in result:\n",
    "            results.append(str(res[0]))\n",
    "        \n",
    "        q2 = \"SELECT DISTINCT ?property WHERE {\"+\\\n",
    "        \"{dbo:\"+subj_type +\" rdfs:subClassOf ?superclass. \"+\\\n",
    "        \" ?property rdfs:domain ?superclass . ?property rdfs:range dbo:\"+obj_type+\\\n",
    "        \" .} UNION {dbo:\"+obj_type +\" rdfs:subClassOf  ?superclass2 . ?property rdfs:domain dbo:\"+\\\n",
    "        subj_type+\" . ?property rdfs:range ?superclass2}}\"\n",
    "        \n",
    "        result = ontology.query(q2)\n",
    "        for res in result:\n",
    "            results.append(str(res[0]))\n",
    "        \n",
    "        possible_types[(subj_type,obj_type)] = results\n",
    "        return results\n",
    "    return possible_types[(subj_type,obj_type)]"
   ]
  },
  {
   "cell_type": "code",
   "execution_count": 17,
   "metadata": {},
   "outputs": [],
   "source": [
    "def disambiguate_multiple_types(entities_and_type, s,p,o): \n",
    "    \n",
    "    for subtype_subj in entities_and_type[str(s)]:\n",
    "\n",
    "        if len(entities_and_type[str(o)]) > 1:\n",
    "            for subtype_obj in entities_and_type[str(o)]:\n",
    "                possible_rels = get_possible_types( subtype_subj, subtype_obj)\n",
    "                if len(possible_rels) == 0:\n",
    "                    return (\"\",\"\")    \n",
    "                for rel in possible_rels:\n",
    "                    if rel == p:\n",
    "                        return (subtype_subj, subtype_obj)\n",
    "        else:\n",
    "            possible_rels = get_possible_types( subtype_subj, entities_and_type[str(o)][0])\n",
    "            if len(possible_rels) == 0:\n",
    "                    return (\"\",\"\")    \n",
    "            for rel in possible_rels:\n",
    "                if rel == p:\n",
    "                    return (subtype_subj, subtype_obj)\n",
    "        \n",
    "    return (\"\",\"\")    "
   ]
  },
  {
   "cell_type": "code",
   "execution_count": 18,
   "metadata": {},
   "outputs": [],
   "source": [
    "def get_class_from_property():\n",
    "    Q = \" SELECT ?property ?class WHERE {?property rdfs:domain ?class; rdf:type owl:DatatypeProperty. }\"\n",
    "    results = {}\n",
    "    result = ontology.query(Q)\n",
    "    for res in result:\n",
    "        results[get_type(str(res[0]))]= get_type(str(res[1]))\n",
    "    return results"
   ]
  },
  {
   "cell_type": "code",
   "execution_count": 19,
   "metadata": {},
   "outputs": [],
   "source": [
    "def get_classes_types(prop_and_type):\n",
    "    class_from_property = get_class_from_property()\n",
    "    new_properties_and_types = {}\n",
    "    for s in list(prop_and_type.keys()):\n",
    "        for element in prop_and_type[s]:\n",
    "            prop = element[0] \n",
    "            p_type = element[1]\n",
    "            p_value = element[2] \n",
    "            \n",
    "            if prop in class_from_property:\n",
    "                if s not in new_properties_and_types:\n",
    "                    new_properties_and_types[s] = []\n",
    "                new_properties_and_types[s].append((class_from_property[prop], prop, p_type, p_value))\n",
    "    \n",
    "    return new_properties_and_types"
   ]
  },
  {
   "cell_type": "code",
   "execution_count": 30,
   "metadata": {},
   "outputs": [],
   "source": [
    "entities_and_type = {}\n",
    "properties_and_types ={}\n",
    "relations = []\n",
    "triples = []\n",
    "use_properties = True\n",
    "# Process the Knowledge Graph\n",
    "g = rdflib.Graph()\n",
    "g.parse(\"/home/sara/Desktop/fase2/git_repo/knowledge-graph-learning/data/external/prova_c.nt\", format='nt')\n",
    "for s, p, o in g:\n",
    "    str_s = str(s)\n",
    "    str_p = str(p)\n",
    "    str_o = str(o)\n",
    "    if str_p != str(RDF.type):\n",
    "        if not str_s in entities_and_type.keys():\n",
    "            entities_and_type[(str_s)] =[]\n",
    "        if not str_p in relations:\n",
    "            relations.append(str_p)\n",
    "\n",
    "        if str_o.find('^^') == -1:\n",
    "            if not str_o in entities_and_type.keys():\n",
    "                entities_and_type[str_o]=[]\n",
    "            triples.append((str_s,str_p,str_o))\n",
    "        else:\n",
    "            if use_properties:\n",
    "                if str_s not in properties_and_types.keys():\n",
    "                    properties_and_types[str_s] =[]\n",
    "                p_type, p_value = get_property_type(str_o)\n",
    "                if (str_s,p_type, p_value) not in properties_and_types[str_s]:\n",
    "                    properties_and_types[str_s].append((get_type(str_p), p_type, p_value))\n",
    "                triples.append((str_s,str_p,str_o))\n",
    "    else:\n",
    "        if str_s not in entities_and_type.keys():\n",
    "            entities_and_type[str_s] =[]\n",
    "        triples.append((str_s,str_p,str_o))\n",
    "        split_o = str_o.split('/')\n",
    "        entities_and_type[str_s].append(split_o[len(split_o)-1])\n",
    "\n",
    "for e in entities_and_type:\n",
    "    entities_and_type[e].sort()\n",
    "\n",
    "properties_and_types = get_classes_types(properties_and_types)\n"
   ]
  },
  {
   "cell_type": "code",
   "execution_count": 31,
   "metadata": {},
   "outputs": [],
   "source": [
    "new_triples = []\n",
    "added_types = []\n",
    "\n",
    "for s,p,o in triples:\n",
    "    s1 = str(s)\n",
    "    p1 = str(p)\n",
    "    o1 = str(o)\n",
    "    insert_type = True\n",
    "\n",
    "    if p != str(RDF.type):\n",
    "        if str(s) in list(properties_and_types.keys()):\n",
    "            #x = properties_and_type[str(s)]\n",
    "            new_triples.append((s, p, o))\n",
    "        if str(s) in list(entities_and_type.keys()) and str(o) in list(entities_and_type.keys()):\n",
    "            if len(entities_and_type[str(s)]) > 1:\n",
    "                new_subj_type, new_obj_type = disambiguate_multiple_types(entities_and_type,s,p,o)\n",
    "                if(new_subj_type, new_obj_type) == (\"\",\"\"):\n",
    "                    continue\n",
    "                #print(\"news\", new_subj_type, \"newo\", new_obj_type, \"sub\", s, \"obj\", o)\n",
    "                if new_subj_type != \"\" and new_obj_type != \"\":\n",
    "                    if s not in added_types:\n",
    "                        new_triples.append((s, str(RDF.type),prefix+ new_subj_type[0] ))\n",
    "                        added_types.append(s)\n",
    "                    if o not in added_types:\n",
    "                        new_triples.append((o,str(RDF.type),prefix+ new_obj_type[0] ))\n",
    "                        added_types.append(o)\n",
    "                    new_triples.append((new_subj_type, p, new_obj_type))\n",
    "                insert_type = False\n",
    "            else: \n",
    "                if s not in added_types:\n",
    "                    new_triples.append((s, str(RDF.type),prefix+entities_and_type[str(s)][0] ))\n",
    "                    added_types.append(s)\n",
    "                if o not in added_types and str(o).find(\"^^\") == -1:\n",
    "                    new_triples.append((o, str(RDF.type),prefix+entities_and_type[str(o)][0] ))\n",
    "                    added_types.append(o)\n",
    "                new_triples.append((s, p, o))\n",
    "            insert_type = False\n",
    "    else:\n",
    "        if insert_type:\n",
    "            new_triples.append((s, p, o))\n",
    "            insert_type = True"
   ]
  },
  {
   "cell_type": "code",
   "execution_count": 33,
   "metadata": {},
   "outputs": [],
   "source": [
    "entity_types_count = {}\n",
    "property_types_count = {}\n",
    "entities = []\n",
    "for entity in entities_and_type.keys():\n",
    "    tipo = entities_and_type[entity][0]\n",
    "    if tipo != \"\":\n",
    "        entity_types_count[tipo] = entity_types_count.get(tipo, 0)+1\n",
    "        entities.append(entity)\n",
    "\n",
    "for subj in properties_and_types.keys():\n",
    "    for class_name, prop_name, prop_type, prop_value in properties_and_types[subj]:\n",
    "        property_types_count[(class_name, subj, prop_name, prop_type)] = property_types_count.get((class_name, subj, prop_name,prop_type), 0)+1\n"
   ]
  },
  {
   "cell_type": "code",
   "execution_count": 34,
   "metadata": {},
   "outputs": [],
   "source": [
    "subject_dict = {}\n",
    "object_dict = {}\n",
    "\n",
    "index_dict = {t:{'count': 0} for t in entity_types_count.keys()}\n",
    "\n",
    "for class_name, subject,rel, p_type in property_types_count.keys():\n",
    "    index_dict[p_type] = {'count':0}\n",
    "    if class_name not in index_dict.keys():\n",
    "        index_dict[class_name] = {'count':0}  \n",
    "        \n",
    "new_triples.sort()\n",
    "for triple in new_triples:\n",
    "    s = str(triple[0])\n",
    "    p = str(triple[1])\n",
    "    o = str(triple[2])\n",
    "    type_triples = []\n",
    "    s_type = entities_and_type[s][0] \n",
    "    \n",
    "    if p != str(RDF.type):\n",
    "        if o.find(\"^^\") == -1:\n",
    "            p_type = get_type(p)\n",
    "            o_type = entities_and_type[o][0]\n",
    "            type_triples.append((s_type,p_type, o_type))\n",
    "\n",
    "        else: \n",
    "            for properties in properties_and_types[s]:\n",
    "                s_type = properties[0]\n",
    "                p_type = get_type(properties[1])\n",
    "                o_type = properties[2]\n",
    "                type_triples.append((s_type,p_type, o_type))\n",
    "\n",
    "        for s_type,p_type,o_type in type_triples:\n",
    "            if(s_type != \"\" and o_type != \"\"):\n",
    "                key_t = (s_type, p_type, o_type)\n",
    "                \n",
    "                if key_t not in subject_dict.keys():\n",
    "                    subject_dict[key_t] = []\n",
    "                    object_dict[key_t] = []\n",
    "                    \n",
    "                if str(s) not in index_dict[s_type]:\n",
    "                    index_dict[s_type][str(s)] = index_dict[s_type]['count']\n",
    "                    index_dict[s_type]['count'] = index_dict[s_type]['count']+1\n",
    "                s_index = index_dict[s_type][str(s)]\n",
    "                    \n",
    "                if str(o) not in index_dict[o_type]:\n",
    "                    index_dict[o_type][str(o)] = index_dict[o_type]['count']\n",
    "                    index_dict[o_type]['count'] = index_dict[o_type]['count']+1\n",
    "                o_index = index_dict[o_type][str(o)]\n",
    "                    \n",
    "                subject_dict[key_t].append(s_index)\n",
    "                object_dict[key_t].append(o_index)\n",
    "        "
   ]
  },
  {
   "cell_type": "code",
   "execution_count": 36,
   "metadata": {},
   "outputs": [],
   "source": [
    "from langdetect import detect\n",
    "from dateutil.parser import parse\n",
    "import datetime, string\n",
    "\n",
    "def function_build_feature(p_type, value):\n",
    "    #return [5] così funziona perchè è numerico\n",
    "    count = lambda l1, l2: len(list(filter(lambda c: c in l2, l1)))\n",
    "\n",
    "    #aggiungere funzione x riconscere le date\n",
    "    if p_type == 'Integer':\n",
    "        try: i = int(value) \n",
    "        except: i = 0\n",
    "        return [i]\n",
    "    if p_type == 'Double':\n",
    "        try: d = float(value)\n",
    "        except: d = float(0.0)\n",
    "        return [d]\n",
    "    if p_type == 'gYear':\n",
    "        return [int(1970-value)]\n",
    "    if p_type == 'String':\n",
    "        a_punct = count(value, string.punctuation)\n",
    "        lang = 0\n",
    "        try:\n",
    "            if detect(value) == 'en': lang = 1\n",
    "        except:\n",
    "            lang = 0\n",
    "        return [len(value), value.count(\" \") , value.count(\"(\") + value.count(\")\"), lang, a_punct]\n",
    "    if p_type == 'Date':\n",
    "        return [(parse(value) - datetime.datetime(1970,1,1)).days]\n",
    "    return \"\""
   ]
  },
  {
   "cell_type": "code",
   "execution_count": 37,
   "metadata": {},
   "outputs": [],
   "source": [
    "complete_data = HeteroData()\n",
    "\n",
    "data_to_insert = {}\n",
    "for subj in list(properties_and_types.keys()):\n",
    "    for class_type, prop_name, prop_type, prop_value in properties_and_types[subj]:\n",
    "        if prop_type not in data_to_insert:\n",
    "            data_to_insert[prop_type] = []\n",
    "        else:\n",
    "            for i in range(property_types_count[(class_type, subj, prop_name, prop_type)]):\n",
    "                data_to_insert[prop_type].append(function_build_feature(prop_type, prop_value))\n",
    "\n",
    "\n",
    "types = list(entity_types_count.keys())\n",
    "for t in types:\n",
    "    data_to_insert[t] = [[1] for i in range(entity_types_count[t])]\n",
    "\n",
    "for key in data_to_insert.keys():\n",
    "    lists = data_to_insert[key]\n",
    "    if lists != '':\n",
    "        complete_data[key].x = torch.Tensor(lists)\n",
    "\n",
    "#property_types_count[(property, prop_name,prop_type)] \n",
    "#properties_and_types[str(s)].append((str(p), p_type, p_value))\n",
    "\n",
    "for triple in subject_dict.keys():\n",
    "    lol = [subject_dict[triple], object_dict[triple]]\n",
    "    complete_data[triple[0], triple[1], triple[2]].edge_index = torch.Tensor(lol).long()"
   ]
  },
  {
   "cell_type": "code",
   "execution_count": 38,
   "metadata": {},
   "outputs": [],
   "source": [
    "from torch_geometric.nn import SAGEConv, to_hetero, GATConv\n",
    "\n",
    "class GNN(torch.nn.Module):\n",
    "    def __init__(self, hidden_channels, out_channels):\n",
    "        super().__init__()\n",
    "        #Sto definendo quale tipologia di layer voglio usare.\n",
    "        self.conv1 = GATConv((-1, -1), hidden_channels)\n",
    "        self.conv2 = GATConv((-1, -1), out_channels)\n",
    "\n",
    "    def forward(self, x, edge_index):\n",
    "        #descrive la computazione dall'input all'output.\n",
    "        x = self.conv1(x, edge_index).relu()\n",
    "        x = self.conv2(x, edge_index)\n",
    "        return x\n",
    "\n",
    "\n",
    "model = GNN(hidden_channels=4, out_channels=2)\n",
    "model = to_hetero(model, complete_data.metadata(), aggr='sum')\n"
   ]
  },
  {
   "cell_type": "code",
   "execution_count": 40,
   "metadata": {},
   "outputs": [],
   "source": [
    "edge_types = list(complete_data.edge_index_dict.keys())"
   ]
  },
  {
   "cell_type": "code",
   "execution_count": 28,
   "metadata": {},
   "outputs": [],
   "source": [
    "torch.save(model.state_dict(), '/home/sara/Desktop/fase2/git_repo/knowledge-graph-learning/src/models/model_notebook.pth')"
   ]
  },
  {
   "cell_type": "code",
   "execution_count": 19,
   "metadata": {},
   "outputs": [
    {
     "data": {
      "text/plain": [
       "<All keys matched successfully>"
      ]
     },
     "execution_count": 19,
     "metadata": {},
     "output_type": "execute_result"
    }
   ],
   "source": [
    "#model.load_state_dict(torch.load('/home/sara/Desktop/fase2/git_repo/knowledge-graph-learning/model_weights.pth'))\n"
   ]
  },
  {
   "cell_type": "code",
   "execution_count": 41,
   "metadata": {},
   "outputs": [],
   "source": [
    "from sklearn.metrics import roc_auc_score\n",
    "\n",
    "def test_hetlinkpre(test_link):\n",
    "    model.eval()\n",
    "    out = model(test_link.x_dict, test_link.edge_index_dict)\n",
    "    \n",
    "    ### LINK PREDICTION ACTS HERE ###\n",
    "    \n",
    "    hs = torch.Tensor()\n",
    "    edge_labels = np.array([])\n",
    "    ### LINK PREDICTION ACTS HERE ###\n",
    "    for edge_t in edge_types:\n",
    "        #Compute link embedding for each edge type\n",
    "        #for src in train_link[edge_t].edge_label_index[0]:\n",
    "        out_src = out[edge_t[0]][test_link[edge_t].edge_label_index[0]]#embedding src nodes\n",
    "        out_dst = out[edge_t[2]][test_link[edge_t].edge_label_index[1]] #embedding dst nodes\n",
    "        \n",
    "        # LINK EMBEDDING #\n",
    "        # 1 - Dot Product\n",
    "        out_sim = out_src * out_dst #dotproduct\n",
    "        h = torch.sum(out_sim, dim=-1)\n",
    "        hs = torch.cat((hs,h),-1)\n",
    "        edge_labels = np.concatenate((edge_labels,test_link[edge_t].edge_label.cpu().detach().numpy()))\n",
    "    \n",
    "    \n",
    "    pred_cont = torch.sigmoid(hs).cpu().detach().numpy()\n",
    "    \n",
    "    # EVALUATION\n",
    "    test_roc_score = roc_auc_score(edge_labels, pred_cont) #comput AUROC score for test set\n",
    "    \n",
    "    return test_roc_score"
   ]
  },
  {
   "cell_type": "code",
   "execution_count": 42,
   "metadata": {},
   "outputs": [
    {
     "ename": "AttributeError",
     "evalue": "'NoneType' object has no attribute 'dim'",
     "output_type": "error",
     "traceback": [
      "\u001b[0;31m---------------------------------------------------------------------------\u001b[0m",
      "\u001b[0;31mAttributeError\u001b[0m                            Traceback (most recent call last)",
      "\u001b[0;32m/tmp/ipykernel_27799/3193688123.py\u001b[0m in \u001b[0;36m<module>\u001b[0;34m\u001b[0m\n\u001b[0;32m----> 1\u001b[0;31m \u001b[0mpred_percentage\u001b[0m \u001b[0;34m=\u001b[0m \u001b[0mtest_hetlinkpre\u001b[0m\u001b[0;34m(\u001b[0m\u001b[0mcomplete_data\u001b[0m\u001b[0;34m)\u001b[0m\u001b[0;34m\u001b[0m\u001b[0;34m\u001b[0m\u001b[0m\n\u001b[0m\u001b[1;32m      2\u001b[0m \u001b[0mprint\u001b[0m\u001b[0;34m(\u001b[0m\u001b[0;34m\"pred_percentage\"\u001b[0m\u001b[0;34m,\u001b[0m\u001b[0mpred_percentage\u001b[0m\u001b[0;34m)\u001b[0m\u001b[0;34m\u001b[0m\u001b[0;34m\u001b[0m\u001b[0m\n",
      "\u001b[0;32m/tmp/ipykernel_27799/3971912420.py\u001b[0m in \u001b[0;36mtest_hetlinkpre\u001b[0;34m(test_link)\u001b[0m\n\u001b[1;32m      3\u001b[0m \u001b[0;32mdef\u001b[0m \u001b[0mtest_hetlinkpre\u001b[0m\u001b[0;34m(\u001b[0m\u001b[0mtest_link\u001b[0m\u001b[0;34m)\u001b[0m\u001b[0;34m:\u001b[0m\u001b[0;34m\u001b[0m\u001b[0;34m\u001b[0m\u001b[0m\n\u001b[1;32m      4\u001b[0m     \u001b[0mmodel\u001b[0m\u001b[0;34m.\u001b[0m\u001b[0meval\u001b[0m\u001b[0;34m(\u001b[0m\u001b[0;34m)\u001b[0m\u001b[0;34m\u001b[0m\u001b[0;34m\u001b[0m\u001b[0m\n\u001b[0;32m----> 5\u001b[0;31m     \u001b[0mout\u001b[0m \u001b[0;34m=\u001b[0m \u001b[0mmodel\u001b[0m\u001b[0;34m(\u001b[0m\u001b[0mtest_link\u001b[0m\u001b[0;34m.\u001b[0m\u001b[0mx_dict\u001b[0m\u001b[0;34m,\u001b[0m \u001b[0mtest_link\u001b[0m\u001b[0;34m.\u001b[0m\u001b[0medge_index_dict\u001b[0m\u001b[0;34m)\u001b[0m\u001b[0;34m\u001b[0m\u001b[0;34m\u001b[0m\u001b[0m\n\u001b[0m\u001b[1;32m      6\u001b[0m \u001b[0;34m\u001b[0m\u001b[0m\n\u001b[1;32m      7\u001b[0m     \u001b[0;31m### LINK PREDICTION ACTS HERE ###\u001b[0m\u001b[0;34m\u001b[0m\u001b[0;34m\u001b[0m\u001b[0;34m\u001b[0m\u001b[0m\n",
      "\u001b[0;32m~/Desktop/fase2/HeteroGraph/lib/python3.7/site-packages/torch/fx/graph_module.py\u001b[0m in \u001b[0;36mwrapped_call\u001b[0;34m(self, *args, **kwargs)\u001b[0m\n\u001b[1;32m    614\u001b[0m                     print(generate_error_message(topmost_framesummary),\n\u001b[1;32m    615\u001b[0m                           file=sys.stderr)\n\u001b[0;32m--> 616\u001b[0;31m                 \u001b[0;32mraise\u001b[0m \u001b[0me\u001b[0m\u001b[0;34m.\u001b[0m\u001b[0mwith_traceback\u001b[0m\u001b[0;34m(\u001b[0m\u001b[0;32mNone\u001b[0m\u001b[0;34m)\u001b[0m\u001b[0;34m\u001b[0m\u001b[0;34m\u001b[0m\u001b[0m\n\u001b[0m\u001b[1;32m    617\u001b[0m \u001b[0;34m\u001b[0m\u001b[0m\n\u001b[1;32m    618\u001b[0m         \u001b[0mcls\u001b[0m\u001b[0;34m.\u001b[0m\u001b[0m__call__\u001b[0m \u001b[0;34m=\u001b[0m \u001b[0mwrapped_call\u001b[0m\u001b[0;34m\u001b[0m\u001b[0;34m\u001b[0m\u001b[0m\n",
      "\u001b[0;31mAttributeError\u001b[0m: 'NoneType' object has no attribute 'dim'"
     ]
    }
   ],
   "source": [
    "pred_percentage = test_hetlinkpre(complete_data)\n",
    "print(\"pred_percentage\",pred_percentage)"
   ]
  },
  {
   "cell_type": "code",
   "execution_count": null,
   "metadata": {},
   "outputs": [],
   "source": []
  },
  {
   "cell_type": "code",
   "execution_count": null,
   "metadata": {},
   "outputs": [],
   "source": []
  }
 ],
 "metadata": {
  "kernelspec": {
   "display_name": "Python 3.7.3 ('HeteroGraph': venv)",
   "language": "python",
   "name": "python3"
  },
  "language_info": {
   "codemirror_mode": {
    "name": "ipython",
    "version": 3
   },
   "file_extension": ".py",
   "mimetype": "text/x-python",
   "name": "python",
   "nbconvert_exporter": "python",
   "pygments_lexer": "ipython3",
   "version": "3.7.3"
  },
  "orig_nbformat": 4,
  "vscode": {
   "interpreter": {
    "hash": "ed8a8f81fdcbe4bb580e703d3d81905dffa90d7a53be09b673d3f1a6169b3bc5"
   }
  }
 },
 "nbformat": 4,
 "nbformat_minor": 2
}
