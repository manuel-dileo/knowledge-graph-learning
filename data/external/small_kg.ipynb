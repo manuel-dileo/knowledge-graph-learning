{
 "cells": [
  {
   "cell_type": "code",
   "execution_count": 9,
   "metadata": {},
   "outputs": [],
   "source": [
    "import os\n",
    "import rdflib\n",
    "from rdflib import URIRef, Literal, RDF\n",
    "from datetime import datetime\n",
    "from dateutil.parser import parse"
   ]
  },
  {
   "cell_type": "code",
   "execution_count": 10,
   "metadata": {},
   "outputs": [],
   "source": [
    "def get_property_type(property):\n",
    "    split_p = property.split(\"^^\")\n",
    "    p_type = split_p[1].split(\"#\")\n",
    "    if p_type[1].startswith(\"xsd:integer\"):\n",
    "        return(\"Integer\", split_p[0])\n",
    "    if p_type[1].startswith(\"xsd:string\"):\n",
    "        return(\"String\", split_p[0])\n",
    "    if p_type[1].startswith(\"xsd:double\"):\n",
    "        return(\"Double\", split_p[0])\n",
    "    if p_type[1].startswith(\"xsd:gYear\"):\n",
    "        return(\"Year\",split_p[0])\n",
    "    if p_type[1].startswith(\"xsd:date\"):\n",
    "        return(\"Date\",split_p[0])\n",
    "    return (\"\",\"\")\n",
    "\n",
    "def get_type(relation):\n",
    "    r_split = relation.split(\"/\")\n",
    "    return r_split[len(r_split)-1]\n"
   ]
  },
  {
   "cell_type": "code",
   "execution_count": 11,
   "metadata": {},
   "outputs": [],
   "source": [
    "entities_and_type = {}\n",
    "properties_and_types ={}\n",
    "triples = []\n",
    "# Process the Knowledge Graph\n",
    "g = rdflib.Graph()\n",
    "new_triples = rdflib.Graph()\n",
    "\n",
    "g.parse('complete_original.nt', format='nt')\n",
    "count = 2000\n",
    "for s, p, o in g:\n",
    "    if str(p) != str(RDF.type):\n",
    "        if not str(s) in entities_and_type.keys() and count > 0 :\n",
    "            entities_and_type[(str(s))] =[]\n",
    "\n",
    "        if str(o).find('^^') == -1:\n",
    "            if not str(o) in entities_and_type.keys() and count > 0 :\n",
    "                entities_and_type[str(o)]=[]\n",
    "            if count > 0:\n",
    "                new_triples.add((s,p,o))\n",
    "                count -= 1        \n",
    "        else:\n",
    "            #if str(s) not in properties_and_types.keys() and count > 0 :\n",
    "            #    properties_and_types[str(s)] =[]\n",
    "            #p_type, p_value = get_property_type(str(o))\n",
    "            #if (str(s),p_type, p_value) not in properties_and_types[str(s)]:\n",
    "            #    properties_and_types[str(s)].append((get_type(str(p)), p_type, p_value))\n",
    "            if count > 0:\n",
    "                new_triples.add((s,p,o))\n",
    "                count -= 1\n",
    "            \n",
    "    else:\n",
    "        split_o = str(o).split('/')\n",
    "        if count > 0:\n",
    "            if str(s) not in entities_and_type.keys():\n",
    "                entities_and_type[str(s)] =[]\n",
    "            new_triples.add((s,p,o))\n",
    "        elif count <= 0 and str(s) in entities_and_type.keys():\n",
    "            entities_and_type[str(s)].append(split_o[len(split_o)-1])\n",
    "            new_triples.add((s,p,o))\n",
    "\n",
    "\n",
    "#               properties_and_type[str(s)] = self.get_property_type(str(o))\n",
    "\n",
    "for e in entities_and_type:\n",
    "    entities_and_type[e].sort() \n"
   ]
  },
  {
   "cell_type": "code",
   "execution_count": 12,
   "metadata": {},
   "outputs": [
    {
     "data": {
      "text/plain": [
       "<Graph identifier=N35a3a329689445c1aeaced4557875bc5 (<class 'rdflib.graph.Graph'>)>"
      ]
     },
     "execution_count": 12,
     "metadata": {},
     "output_type": "execute_result"
    }
   ],
   "source": [
    "new_triples.serialize(destination=\"prova_c3.nt\", format=\"nt\")"
   ]
  },
  {
   "cell_type": "code",
   "execution_count": 5,
   "metadata": {},
   "outputs": [
    {
     "name": "stdout",
     "output_type": "stream",
     "text": [
      "ciaO\n"
     ]
    }
   ],
   "source": [
    "from dateutil.parser import parse\n",
    "from datetime import datetime\n",
    "\n",
    "x = parse(\"12/12/2021\")\n",
    "if isinstance(x,datetime):\n",
    "    print(\"ciaO\")"
   ]
  },
  {
   "cell_type": "code",
   "execution_count": 6,
   "metadata": {},
   "outputs": [
    {
     "name": "stdout",
     "output_type": "stream",
     "text": [
      "eng\n"
     ]
    }
   ],
   "source": [
    "from langdetect import detect\n",
    "value =\"how are you\"\n",
    "if detect(value) == 'en':\n",
    "    print(\"eng\")"
   ]
  },
  {
   "cell_type": "code",
   "execution_count": null,
   "metadata": {},
   "outputs": [],
   "source": []
  }
 ],
 "metadata": {
  "kernelspec": {
   "display_name": "Python 3.7.3 ('HeteroGraph': venv)",
   "language": "python",
   "name": "python3"
  },
  "language_info": {
   "codemirror_mode": {
    "name": "ipython",
    "version": 3
   },
   "file_extension": ".py",
   "mimetype": "text/x-python",
   "name": "python",
   "nbconvert_exporter": "python",
   "pygments_lexer": "ipython3",
   "version": "3.7.3"
  },
  "orig_nbformat": 4,
  "vscode": {
   "interpreter": {
    "hash": "ed8a8f81fdcbe4bb580e703d3d81905dffa90d7a53be09b673d3f1a6169b3bc5"
   }
  }
 },
 "nbformat": 4,
 "nbformat_minor": 2
}
