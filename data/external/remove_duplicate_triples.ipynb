{
 "cells": [
  {
   "cell_type": "code",
   "execution_count": 15,
   "metadata": {},
   "outputs": [],
   "source": [
    "import os\n",
    "import rdflib\n",
    "from rdflib import URIRef, Literal\n",
    "from datetime import datetime\n",
    "from dateutil.parser import parse\n",
    "\n",
    "g = rdflib.Graph()\n",
    "new_triples = rdflib.Graph()\n",
    "g.parse('complete.nt', format='nt')\n",
    "for s, p, o in g:\n",
    "    \n",
    "    if (o != Literal(\"Nicoletta Braschi^^<http://www.w3.org/2001/XMLSchema#xsd:string>.\")\n",
    "    and o != Literal(\"Ben Halliday^^<http://www.w3.org/2001/XMLSchema#xsd:string>.\") \n",
    "    and o != Literal(\"Peter Halliday^^<http://www.w3.org/2001/XMLSchema#xsd:string>.\")\n",
    "    and o != Literal(\"Simon Halliday^^<http://www.w3.org/2001/XMLSchema#xsd:string>.\")\n",
    "    and o != Literal(\"Patrick Halliday^^<http://www.w3.org/2001/XMLSchema#xsd:string>.\")\n",
    "    and o != Literal(\"Peter Halliday^^<http://www.w3.org/2001/XMLSchema#xsd:string>.\")):\n",
    "        if str(o).find('^^') != -1:\n",
    "            o_split = str(o).split(\"^^\")\n",
    "            try:\n",
    "                o_type = int(o_split[0])   \n",
    "                o = str(o_type)+ \"^^\" + \"<http://www.w3.org/2001/XMLSchema#xsd:Integer>.\"\n",
    "                new_triples.add((s,p, Literal(o)))\n",
    "            except Exception as exceptions:\n",
    "                try:\n",
    "                    o_type = parse(o_split[0])\n",
    "                    if isinstance(o_type, datetime):\n",
    "                        o = str(o_split[0])+ \"^^\" + \"<http://www.w3.org/2001/XMLSchema#xsd:date>.\"\n",
    "                        new_triples.add((s,p, Literal(o)))\n",
    "                    else:\n",
    "                        new_triples.add((s,p,o))\n",
    "                except:\n",
    "                    new_triples.add((s,p,o))\n",
    "        else:\n",
    "            new_triples.add((s,p,o))"
   ]
  },
  {
   "cell_type": "code",
   "execution_count": null,
   "metadata": {},
   "outputs": [],
   "source": []
  },
  {
   "cell_type": "code",
   "execution_count": 16,
   "metadata": {},
   "outputs": [
    {
     "data": {
      "text/plain": [
       "<Graph identifier=N899ede679d4d4c7e829c20cfbb5f9dc7 (<class 'rdflib.graph.Graph'>)>"
      ]
     },
     "execution_count": 16,
     "metadata": {},
     "output_type": "execute_result"
    }
   ],
   "source": [
    "new_triples.serialize(destination=\"prova_c.nt\", format=\"nt\")"
   ]
  },
  {
   "cell_type": "code",
   "execution_count": 6,
   "metadata": {},
   "outputs": [
    {
     "name": "stdout",
     "output_type": "stream",
     "text": [
      "ciaO\n"
     ]
    }
   ],
   "source": [
    "from dateutil.parser import parse\n",
    "from datetime import datetime\n",
    "\n",
    "x = parse(\"12/12/2021\")\n",
    "if isinstance(x,datetime):\n",
    "    print(\"ciaO\")"
   ]
  },
  {
   "cell_type": "code",
   "execution_count": 4,
   "metadata": {},
   "outputs": [
    {
     "name": "stdout",
     "output_type": "stream",
     "text": [
      "eng\n"
     ]
    }
   ],
   "source": [
    "from langdetect import detect\n",
    "value =\"how are you\"\n",
    "if detect(value) == 'en':\n",
    "    print(\"eng\")"
   ]
  },
  {
   "cell_type": "code",
   "execution_count": null,
   "metadata": {},
   "outputs": [],
   "source": []
  }
 ],
 "metadata": {
  "kernelspec": {
   "display_name": "Python 3.7.3 ('HeteroGraph': venv)",
   "language": "python",
   "name": "python3"
  },
  "language_info": {
   "codemirror_mode": {
    "name": "ipython",
    "version": 3
   },
   "file_extension": ".py",
   "mimetype": "text/x-python",
   "name": "python",
   "nbconvert_exporter": "python",
   "pygments_lexer": "ipython3",
   "version": "3.7.3"
  },
  "orig_nbformat": 4,
  "vscode": {
   "interpreter": {
    "hash": "ed8a8f81fdcbe4bb580e703d3d81905dffa90d7a53be09b673d3f1a6169b3bc5"
   }
  }
 },
 "nbformat": 4,
 "nbformat_minor": 2
}
