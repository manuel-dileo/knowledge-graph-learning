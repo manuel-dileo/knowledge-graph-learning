{
 "cells": [
  {
   "cell_type": "code",
   "execution_count": 1,
   "metadata": {},
   "outputs": [],
   "source": [
    "import rdflib\n",
    "from rdflib import URIRef\n",
    "from rdflib.namespace import OWL, RDF, RDFS,XSD, Namespace\n",
    "import csv\n",
    "from torch_geometric.data import HeteroData\n",
    "import torch\n",
    "import numpy as np"
   ]
  },
  {
   "cell_type": "code",
   "execution_count": 2,
   "metadata": {},
   "outputs": [],
   "source": [
    "prefix = \"https://dbpedia.org/ontology/\"\n",
    "possible_types = {}"
   ]
  },
  {
   "cell_type": "code",
   "execution_count": 3,
   "metadata": {},
   "outputs": [],
   "source": [
    "def _store_dict(dict_path, list_to_store):\n",
    "    with open(dict_path, 'wt') as file:\n",
    "        writer = csv.writer(file, delimiter='\\t')\n",
    "        for idx, val in enumerate(list_to_store):\n",
    "            writer.writerow([idx, val]) "
   ]
  },
  {
   "cell_type": "code",
   "execution_count": 4,
   "metadata": {},
   "outputs": [],
   "source": [
    "def get_relation_type(relation):\n",
    "    r_split = relation.split(\"/\")\n",
    "    return r_split[len(r_split)-1]"
   ]
  },
  {
   "cell_type": "code",
   "execution_count": 5,
   "metadata": {},
   "outputs": [
    {
     "data": {
      "text/plain": [
       "<Graph identifier=N64a55d4e85c640a6bba22ab096332698 (<class 'rdflib.graph.Graph'>)>"
      ]
     },
     "execution_count": 5,
     "metadata": {},
     "output_type": "execute_result"
    }
   ],
   "source": [
    "ontology = rdflib.Graph()\n",
    "ontology.parse('data/external/complete.nt', format='ttl')"
   ]
  },
  {
   "cell_type": "code",
   "execution_count": 6,
   "metadata": {},
   "outputs": [],
   "source": [
    "ontology.bind(\"dbo\", Namespace(\"http://dbpedia.org/ontology/\"))\n",
    "ontology.bind(\"dbr\", Namespace(\"http://dbpedia.org/resource/\"))\n",
    "ontology.bind(\"rdfs\", Namespace(\"http://www.w3.org/2000/01/rdf-schema#\"))\n",
    "ontology.bind(\"owl\", Namespace(\"http://www.w3.org/2002/07/owl#\"))\n",
    "ontology.bind(\"rdf\", Namespace(\"http://www.w3.org/1999/02/22-rdf-syntax-ns#\"))"
   ]
  },
  {
   "cell_type": "code",
   "execution_count": 7,
   "metadata": {},
   "outputs": [],
   "source": [
    "def get_possible_types(subj_type, obj_type):\n",
    "    if (subj_type,obj_type) not in possible_types:\n",
    "        q = \"SELECT DISTINCT ?property WHERE {\"+\\\n",
    "        \"{ ?property rdfs:domain dbo:\"+subj_type+\". ?property rdfs:range dbo:\"+obj_type+\\\n",
    "        \" .} UNION {dbo:\"+subj_type +\" rdfs:subClassOf ?superclass. dbo:\"+obj_type +\" rdfs:subClassOf  ?superclass2 .\"+\\\n",
    "        \"  ?property rdfs:domain ?superclass . ?property rdfs:range ?superclass2 \"+\\\n",
    "        \"} }\"\n",
    "        result = ontology.query(q)\n",
    "        results = []\n",
    "        for res in result:\n",
    "            results.append(str(res[0]))\n",
    "        \n",
    "        q2 = \"SELECT DISTINCT ?property WHERE {\"+\\\n",
    "        \"{dbo:\"+subj_type +\" rdfs:subClassOf ?superclass. \"+\\\n",
    "        \" ?property rdfs:domain ?superclass . ?property rdfs:range dbo:\"+obj_type+\\\n",
    "        \" .} UNION {dbo:\"+obj_type +\" rdfs:subClassOf  ?superclass2 . ?property rdfs:domain dbo:\"+\\\n",
    "        subj_type+\" . ?property rdfs:range ?superclass2}}\"\n",
    "        \n",
    "        result = ontology.query(q2)\n",
    "        for res in result:\n",
    "            results.append(str(res[0]))\n",
    "        \n",
    "        possible_types[(subj_type,obj_type)] = results\n",
    "        return results\n",
    "    return possible_types[(subj_type,obj_type)]"
   ]
  },
  {
   "cell_type": "code",
   "execution_count": 8,
   "metadata": {},
   "outputs": [],
   "source": [
    "entities_and_type = {}\n",
    "relations = []\n",
    "triples = []\n",
    "triple_properties=[]\n",
    "# Process the Knowledge Graph\n",
    "g = rdflib.Graph()\n",
    "g.parse('data/external/complete.nt', format='nt')\n",
    "total = []\n",
    "for s, p, o in g:\n",
    "    total.append(str(s)+\", \"+ str(p) + \", \"+ str(o))\n",
    "\n",
    "    if str(p) != \"http://www.w3.org/1999/02/22-rdf-syntax-ns#type\":\n",
    "        if not str(s) in entities_and_type.keys():\n",
    "            entities_and_type[(str(s))] =[]\n",
    "        if not str(p) in relations:\n",
    "            relations.append(str(p))\n",
    "\n",
    "        if str(o).find('^^') == -1:\n",
    "            if not str(o) in entities_and_type.keys():\n",
    "                entities_and_type[str(o)]=[]\n",
    "            triples.append((s,p,o))\n",
    "        else:\n",
    "            triple_properties.append((str(s),str(p),str(o)))\n",
    "        \n",
    "    else:\n",
    "        if str(s) not in entities_and_type.keys():\n",
    "            entities_and_type[str(s)] =[]\n",
    "        \n",
    "        split_o = str(o).split('/')\n",
    "        entities_and_type[str(s)].append(split_o[len(split_o)-1])\n",
    "for e in entities_and_type:\n",
    "    entities_and_type[e].sort()"
   ]
  },
  {
   "cell_type": "code",
   "execution_count": 9,
   "metadata": {},
   "outputs": [],
   "source": [
    "def disambiguate_multiple_types(s,p,o): \n",
    "    \n",
    "    for subtype_subj in entities_and_type[str(s)]:\n",
    "\n",
    "        if len(entities_and_type[str(o)]) > 1:\n",
    "            for subtype_obj in entities_and_type[str(o)]:\n",
    "                possible_rels = get_possible_types( subtype_subj, subtype_obj)\n",
    "                if len(possible_rels) == 0:\n",
    "                    return (\"\",\"\")    \n",
    "                for rel in possible_rels:\n",
    "                    if rel == p:\n",
    "                        return (subtype_subj, subtype_obj)\n",
    "        else:\n",
    "            possible_rels = get_possible_types( subtype_subj, entities_and_type[str(o)][0])\n",
    "            if len(possible_rels) == 0:\n",
    "                    return (\"\",\"\")    \n",
    "            for rel in possible_rels:\n",
    "                if rel == p:\n",
    "                    return (subtype_subj, subtype_obj)\n",
    "        \n",
    "    return (\"\",\"\")    "
   ]
  },
  {
   "cell_type": "code",
   "execution_count": 10,
   "metadata": {},
   "outputs": [],
   "source": [
    "new_triples=[]\n",
    "added_types = []\n",
    "triples.sort()\n",
    "for s,p,o in triples:\n",
    "    if len(entities_and_type[str(s)]) > 1:\n",
    "        new_subj_type, new_obj_type = disambiguate_multiple_types(s,p,o)\n",
    "        if(new_subj_type, new_obj_type) == (\"\",\"\"):\n",
    "            continue\n",
    "        #print(\"news\", new_subj_type, \"newo\", new_obj_type, \"sub\", s, \"obj\", o)\n",
    "        if new_subj_type != \"\" and new_obj_type != \"\":\n",
    "            if s not in added_types:\n",
    "                new_triples.append((s, \"http://www.w3.org/1999/02/22-rdf-syntax-ns#type\",prefix+ new_subj_type[0] ))\n",
    "                added_types.append(s)\n",
    "            if o not in added_types:\n",
    "                new_triples.append((o, \"http://www.w3.org/1999/02/22-rdf-syntax-ns#type\",prefix+ new_obj_type[0] ))\n",
    "                added_types.append(o)\n",
    "            new_triples.append((new_subj_type, p, new_obj_type))\n",
    "    else:  \n",
    "        if s not in added_types:\n",
    "            new_triples.append((s, \"http://www.w3.org/1999/02/22-rdf-syntax-ns#type\",prefix+entities_and_type[str(s)][0] ))\n",
    "            added_types.append(s)\n",
    "        if o not in added_types:\n",
    "            new_triples.append((o, \"http://www.w3.org/1999/02/22-rdf-syntax-ns#type\",prefix+entities_and_type[str(o)][0] ))\n",
    "            added_types.append(o)\n",
    "        new_triples.append((s, p, o))\n",
    "\n",
    "new_triples.sort()"
   ]
  },
  {
   "cell_type": "code",
   "execution_count": 11,
   "metadata": {},
   "outputs": [],
   "source": [
    "entity_types_count = {}\n",
    "entities = []\n",
    "for entity in entities_and_type.keys():\n",
    "    tipo = entities_and_type[entity][0]\n",
    "    if tipo != \"\":\n",
    "        entity_types_count[tipo] = entity_types_count.get(tipo, 0)+1\n",
    "        entities.append(entity)\n",
    "\n",
    "#_store_dict(\"entities.dict\", entities)\n",
    "#_store_dict(\"relations.dict\", relations)"
   ]
  },
  {
   "cell_type": "code",
   "execution_count": 12,
   "metadata": {},
   "outputs": [],
   "source": [
    "subject_dict = {}\n",
    "object_dict = {}\n",
    "\n",
    "index_dict = {t:{'count': 0} for t in entity_types_count.keys()}\n",
    "new_triples.sort()\n",
    "for triple in new_triples:\n",
    "    s = str(triple[0])\n",
    "    p = str(triple[1])\n",
    "    o = str(triple[2])\n",
    "\n",
    "    if s in entities and o in entities:\n",
    "        p_type = get_relation_type(p)\n",
    "        s_type = entities_and_type[s][0]\n",
    "        o_type = entities_and_type[o][0]\n",
    "\n",
    "        if(s_type != \"\" and o_type != \"\"):\n",
    "            key_t = (s_type, p_type, o_type)\n",
    "            \n",
    "            if key_t not in subject_dict.keys():\n",
    "                subject_dict[key_t] = []\n",
    "                object_dict[key_t] = []\n",
    "                \n",
    "            if str(s) not in index_dict[s_type]:\n",
    "                index_dict[s_type][str(s)] = index_dict[s_type]['count']\n",
    "                index_dict[s_type]['count'] = index_dict[s_type]['count']+1\n",
    "            s_index = index_dict[s_type][str(s)]\n",
    "                \n",
    "            if str(o) not in index_dict[o_type]:\n",
    "                index_dict[o_type][str(o)] = index_dict[o_type]['count']\n",
    "                index_dict[o_type]['count'] = index_dict[o_type]['count']+1\n",
    "            o_index = index_dict[o_type][str(o)]\n",
    "                \n",
    "            subject_dict[key_t].append(s_index)\n",
    "            object_dict[key_t].append(o_index)\n",
    "         \n",
    "        #data[s_type, p_type, o_type].edge_index[0].append(entities.index(str(s)))\n",
    "        #data[s_type, p_type, o_type].edge_index[1].append(entities.index(str(o)))"
   ]
  },
  {
   "cell_type": "code",
   "execution_count": 13,
   "metadata": {},
   "outputs": [],
   "source": [
    "data = HeteroData()\n",
    "types = list(entity_types_count.keys())\n",
    "for t in types:\n",
    "    data[t].x = torch.Tensor([[1] for i in range(entity_types_count[t])])"
   ]
  },
  {
   "cell_type": "code",
   "execution_count": 14,
   "metadata": {},
   "outputs": [],
   "source": [
    "for triple in subject_dict.keys():\n",
    "    lol = [subject_dict[triple], object_dict[triple]]\n",
    "    if len(lol[0]) > 10:\n",
    "        data[triple[0], triple[1], triple[2]].edge_index = torch.Tensor(lol).long()"
   ]
  },
  {
   "cell_type": "code",
   "execution_count": 15,
   "metadata": {},
   "outputs": [],
   "source": [
    "edge_types = list(data.edge_index_dict.keys())"
   ]
  },
  {
   "cell_type": "code",
   "execution_count": 16,
   "metadata": {},
   "outputs": [],
   "source": [
    "from torch_geometric.utils import remove_self_loops, remove_isolated_nodes\n",
    "\n",
    "for edge_type in data.edge_index_dict.keys():\n",
    "    if edge_type[0] == edge_type[2]:\n",
    "        new_edge_index = remove_self_loops(data[edge_type].edge_index)[0]\n",
    "        data[edge_type].edge_index = new_edge_index\n",
    "    new_edge_index = remove_isolated_nodes(data[edge_type].edge_index)[0]\n",
    "    data[edge_type].edge_index = new_edge_index"
   ]
  },
  {
   "cell_type": "code",
   "execution_count": 17,
   "metadata": {},
   "outputs": [],
   "source": [
    "from torch_geometric.nn import SAGEConv, to_hetero, GATConv, Linear\n",
    "\n",
    "class GNN(torch.nn.Module):\n",
    "    def __init__(self, hidden_channels, out_channels):\n",
    "        super().__init__()\n",
    "        self.conv1 = GATConv((-1, -1), hidden_channels)\n",
    "        self.conv2 = GATConv((-1, -1), out_channels)\n",
    "\n",
    "    def forward(self, x, edge_index):\n",
    "        x = self.conv1(x, edge_index).relu()\n",
    "        x = self.conv2(x, edge_index)\n",
    "        return x\n",
    "\n",
    "\n",
    "model = GNN(hidden_channels=4, out_channels=2)\n",
    "model = to_hetero(model, data.metadata(), aggr='sum')"
   ]
  },
  {
   "cell_type": "code",
   "execution_count": 18,
   "metadata": {},
   "outputs": [
    {
     "data": {
      "text/plain": [
       "'\\nfrom torch_geometric.nn import HANConv\\nfrom typing import Union,Dict\\n\\nclass HAN(torch.nn.Module):\\n    def __init__(self, in_channels: Union[int, Dict[str, int]],\\n                 out_channels: int, hidden_channels=4, heads=1):\\n        super().__init__()\\n        self.han_conv = HANConv(in_channels, hidden_channels, heads=heads,\\n                                dropout=0.0, metadata=data.metadata())\\n        \\n    def forward(self, x_dict, edge_index_dict):\\n        out = self.han_conv(x_dict, edge_index_dict)\\n        out = self.\\n        return out\\n\\nmodel = HAN(in_channels=-1, out_channels=2)\\n'"
      ]
     },
     "execution_count": 18,
     "metadata": {},
     "output_type": "execute_result"
    }
   ],
   "source": [
    "\"\"\"\n",
    "from torch_geometric.nn import HANConv\n",
    "from typing import Union,Dict\n",
    "\n",
    "class HAN(torch.nn.Module):\n",
    "    def __init__(self, in_channels: Union[int, Dict[str, int]],\n",
    "                 out_channels: int, hidden_channels=4, heads=1):\n",
    "        super().__init__()\n",
    "        self.han_conv = HANConv(in_channels, hidden_channels, heads=heads,\n",
    "                                dropout=0.0, metadata=data.metadata())\n",
    "        \n",
    "    def forward(self, x_dict, edge_index_dict):\n",
    "        out = self.han_conv(x_dict, edge_index_dict)\n",
    "        out = self.\n",
    "        return out\n",
    "\n",
    "model = HAN(in_channels=-1, out_channels=2)\n",
    "\"\"\""
   ]
  },
  {
   "cell_type": "code",
   "execution_count": 19,
   "metadata": {},
   "outputs": [],
   "source": [
    "from torch_geometric.transforms import RandomLinkSplit\n",
    "\n",
    "link_split = RandomLinkSplit(num_val=0.0,\n",
    "                             num_test=0.25,\n",
    "                             edge_types=edge_types,\n",
    "                             rev_edge_types=[None]*len(edge_types))\n",
    "train_link, val_link, test_link = link_split(data)"
   ]
  },
  {
   "cell_type": "code",
   "execution_count": 20,
   "metadata": {},
   "outputs": [],
   "source": [
    "with torch.no_grad():  # Initialize lazy modules.\n",
    "    out = model(data.x_dict,data.edge_index_dict)"
   ]
  },
  {
   "cell_type": "code",
   "execution_count": 21,
   "metadata": {},
   "outputs": [],
   "source": [
    "weight_decay=5e-4\n",
    "#optimizer = torch.optim.SGD(model.parameters(), lr=0.1, momentum=0.9, weight_decay=weight_decay)\n",
    "optimizer = torch.optim.Adam(params=model.parameters(), lr=0.01, weight_decay = weight_decay)\n",
    "#optimizer = torch.optim.RMSprop(model.parameters(), lr=0.1, weight_decay = weight_decay)\n",
    "#optimizer = torch.optim.Adagrad(model.parameters(), lr=0.01, weight_decay=weight_decay)\n",
    "criterion =  torch.nn.BCEWithLogitsLoss() #change loss function\n",
    "\n",
    "def train_hetlinkpre():\n",
    "    model.train()\n",
    "    optimizer.zero_grad()  # Clear gradients.\n",
    "    out = model(train_link.x_dict, train_link.edge_index_dict)  # Perform a single forward pass.\n",
    "    preds = torch.Tensor()\n",
    "    edge_labels = torch.Tensor()\n",
    "    ### LINK PREDICTION ACTS HERE ###\n",
    "    for edge_t in edge_types:\n",
    "        #Compute link embedding for each edge type\n",
    "        #for src in train_link[edge_t].edge_label_index[0]:\n",
    "        out_src = out[edge_t[0]][train_link[edge_t].edge_label_index[0]]#embedding src nodes\n",
    "        out_dst = out[edge_t[2]][train_link[edge_t].edge_label_index[1]] #embedding dst nodes\n",
    "        \n",
    "        # LINK EMBEDDING #\n",
    "        # 1 - Dot Product\n",
    "        out_sim = out_src * out_dst #dotproduct\n",
    "        pred = torch.sum(out_sim, dim=-1)\n",
    "        \n",
    "        preds = torch.cat((preds,pred),-1)\n",
    "        edge_labels = torch.cat((edge_labels,train_link[edge_t].edge_label.type_as(pred)),-1)\n",
    "    \n",
    "        \n",
    "    #compute loss function based on all edge types\n",
    "    loss = criterion(preds, edge_labels)\n",
    "    loss.backward()  # Derive gradients.\n",
    "    optimizer.step()  # Update parameters based on gradients.\n",
    "    return loss"
   ]
  },
  {
   "cell_type": "code",
   "execution_count": 22,
   "metadata": {},
   "outputs": [],
   "source": [
    "from sklearn.metrics import roc_auc_score\n",
    "\n",
    "def test_hetlinkpre(test_link):\n",
    "    model.eval()\n",
    "    out = model(test_link.x_dict, test_link.edge_index_dict)\n",
    "    \n",
    "    ### LINK PREDICTION ACTS HERE ###\n",
    "    \n",
    "    hs = torch.Tensor()\n",
    "    edge_labels = np.array([])\n",
    "    ### LINK PREDICTION ACTS HERE ###\n",
    "    for edge_t in edge_types:\n",
    "        #Compute link embedding for each edge type\n",
    "        #for src in train_link[edge_t].edge_label_index[0]:\n",
    "        out_src = out[edge_t[0]][test_link[edge_t].edge_label_index[0]]#embedding src nodes\n",
    "        out_dst = out[edge_t[2]][test_link[edge_t].edge_label_index[1]] #embedding dst nodes\n",
    "        \n",
    "        # LINK EMBEDDING #\n",
    "        # 1 - Dot Product\n",
    "        out_sim = out_src * out_dst #dotproduct\n",
    "        h = torch.sum(out_sim, dim=-1)\n",
    "        \n",
    "        hs = torch.cat((hs,h),-1)\n",
    "        edge_labels = np.concatenate((edge_labels,test_link[edge_t].edge_label.cpu().detach().numpy()))\n",
    "    \n",
    "    \n",
    "    pred_cont = torch.sigmoid(hs).cpu().detach().numpy()\n",
    "    \n",
    "    # EVALUATION\n",
    "    test_roc_score = roc_auc_score(edge_labels, pred_cont) #comput AUROC score for test set\n",
    "    \n",
    "    return test_roc_score"
   ]
  },
  {
   "cell_type": "code",
   "execution_count": 23,
   "metadata": {},
   "outputs": [],
   "source": [
    "perf_train = []\n",
    "perf_test = []\n",
    "num_epochs = 200\n",
    "for epoch in range(num_epochs):\n",
    "    loss = train_hetlinkpre()\n",
    "    roc_train = test_hetlinkpre(train_link)\n",
    "    roc_test = test_hetlinkpre(test_link)\n",
    "    perf_train.append(roc_train)\n",
    "    perf_test.append(roc_test)\n",
    "    #print(f'Epoch: {epoch:03d}, Loss: {loss:.4f}')"
   ]
  },
  {
   "cell_type": "code",
   "execution_count": 24,
   "metadata": {},
   "outputs": [
    {
     "name": "stdout",
     "output_type": "stream",
     "text": [
      "Train AUROC: 0.7588\n",
      "Test AUROC: 0.7415\n"
     ]
    }
   ],
   "source": [
    "roc_train = test_hetlinkpre(train_link)\n",
    "roc_test = test_hetlinkpre(test_link)\n",
    "print(f'Train AUROC: {roc_train:.4f}\\nTest AUROC: {roc_test:.4f}')"
   ]
  },
  {
   "cell_type": "code",
   "execution_count": 25,
   "metadata": {},
   "outputs": [
    {
     "data": {
      "image/png": "[encoded data removed]",
      "text/plain": [
       "<Figure size 432x288 with 1 Axes>"
      ]
     },
     "metadata": {
      "needs_background": "light"
     },
     "output_type": "display_data"
    }
   ],
   "source": [
    "import matplotlib.pyplot as plt\n",
    "\n",
    "x = range(num_epochs)\n",
    "plt.clf()\n",
    "plt.plot(x, perf_train, color='orange', label='auroc_train')\n",
    "plt.plot(x, perf_test, color='blue', label='auroc_test')\n",
    "plt.xlabel('Epoch')\n",
    "plt.ylabel('AUROC-score')\n",
    "plt.legend()\n",
    "plt.ylim(top=1)\n",
    "plt.grid()\n",
    "plt.show()\n",
    "#plt.clf()"
   ]
  }
 ],
 "metadata": {
  "kernelspec": {
   "display_name": "Python 3 (ipykernel)",
   "language": "python",
   "name": "python3"
  },
  "language_info": {
   "codemirror_mode": {
    "name": "ipython",
    "version": 3
   },
   "file_extension": ".py",
   "mimetype": "text/x-python",
   "name": "python",
   "nbconvert_exporter": "python",
   "pygments_lexer": "ipython3",
   "version": "3.7.3"
  },
  "vscode": {
   "interpreter": {
    "hash": "ed8a8f81fdcbe4bb580e703d3d81905dffa90d7a53be09b673d3f1a6169b3bc5"
   }
  }
 },
 "nbformat": 4,
 "nbformat_minor": 2
}
